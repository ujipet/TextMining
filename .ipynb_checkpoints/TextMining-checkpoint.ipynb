{
 "cells": [
  {
   "cell_type": "code",
   "execution_count": 1,
   "metadata": {
    "collapsed": true
   },
   "outputs": [],
   "source": [
    "import pandas as pd\n",
    "import numpy as np\n",
    "import datetime as dt"
   ]
  },
  {
   "cell_type": "code",
   "execution_count": 2,
   "metadata": {
    "collapsed": true
   },
   "outputs": [],
   "source": [
    "def olvas(file_name, fejlec = 'infer'):\n",
    "    if (fejlec == 'infer'):\n",
    "        df = pd.read_csv(file_name, sep=';' , encoding = \"ISO-8859-1\", header = fejlec)\n",
    "    elif (file_name[0:5]=='Test1'): \n",
    "        df = pd.read_csv(file_name, sep=';' , encoding = \"ISO-8859-1\", header = fejlec, names = ['Sentence #','Word', 'POS'])\n",
    "    else:\n",
    "        df = pd.read_csv(file_name, sep=';' , encoding = \"ISO-8859-1\", header = fejlec, names = ['Sentence #','Word'])\n",
    "    return df"
   ]
  },
  {
   "cell_type": "code",
   "execution_count": 3,
   "metadata": {
    "collapsed": true
   },
   "outputs": [],
   "source": [
    "def kezdobetu(df,k_betu_szama,v_betu_szama):\n",
    "    s = pd.DataFrame(columns=('Word', 'POS', 'Tag'))\n",
    "    j = 0\n",
    "    for i in range(len(df)):\n",
    "        if not(pd.isnull(df.iloc[i][\"Word\"])):\n",
    "            if (k_betu_szama <= ord(df.iloc[i][\"Word\"][0])) & (ord(df.iloc[i][\"Word\"][0]) <= v_betu_szama) & ((df.iloc[i][\"Tag\"][0] == 'B') | (df.iloc[i][\"Tag\"][0] == 'I')):\n",
    "                    s.loc[j] = [df.iloc[i][\"Word\"],df.iloc[i][\"POS\"],df.iloc[i][\"Tag\"][2:len(df.iloc[i][\"Tag\"])]]\n",
    "                    j = j + 1\n",
    "    return s"
   ]
  },
  {
   "cell_type": "code",
   "execution_count": 4,
   "metadata": {
    "collapsed": true
   },
   "outputs": [],
   "source": [
    "def resetindex(df):\n",
    "    t3 = df.drop_duplicates()\n",
    "    t4 = t3.reset_index(drop=True)\n",
    "    return t4"
   ]
  },
  {
   "cell_type": "code",
   "execution_count": 5,
   "metadata": {
    "collapsed": true
   },
   "outputs": [],
   "source": [
    "def writecsv(df, file_neve = 'solution'):\n",
    "    time = str(dt.datetime.now())\n",
    "\n",
    "    file_end = time[0:4]+\"_\"+time[5:7]+\"_\"+time[8:10]+\"_\"+time[11:13]+\"h_\"+time[14:16]+\"m_\"+time[17:19]+\"s.csv\"\n",
    "    file = file_neve+\"_\"\n",
    "    file_name = file+file_end\n",
    "    print(file_name)\n",
    "\n",
    "    df.to_csv(file_name, sep=';',index=False)"
   ]
  },
  {
   "cell_type": "code",
   "execution_count": null,
   "metadata": {
    "collapsed": true
   },
   "outputs": [],
   "source": []
  },
  {
   "cell_type": "code",
   "execution_count": null,
   "metadata": {
    "collapsed": true
   },
   "outputs": [],
   "source": []
  },
  {
   "cell_type": "code",
   "execution_count": null,
   "metadata": {
    "collapsed": true
   },
   "outputs": [],
   "source": [
    "df = pd.read_csv('TrainNER.csv',sep=';', encoding = \"ISO-8859-1\")"
   ]
  },
  {
   "cell_type": "code",
   "execution_count": null,
   "metadata": {
    "collapsed": false,
    "scrolled": true
   },
   "outputs": [],
   "source": [
    "df"
   ]
  },
  {
   "cell_type": "markdown",
   "metadata": {},
   "source": [
    "Nagybetű és 12 kategória egyike (dátumok nincsenek benne)"
   ]
  },
  {
   "cell_type": "code",
   "execution_count": null,
   "metadata": {
    "collapsed": false,
    "scrolled": true
   },
   "outputs": [],
   "source": [
    "j = 0\n",
    "for i in range(len(df)):\n",
    "    if not(pd.isnull(df.iloc[i][\"Word\"])):\n",
    "        if (65 <= ord(df.iloc[i][\"Word\"][0])) & (ord(df.iloc[i][\"Word\"][0]) <= 90) & ((df.iloc[i][\"Tag\"][0] == 'B') | (df.iloc[i][\"Tag\"][0] == 'I')):\n",
    "                s.loc[j] = [df.iloc[i][\"Word\"],df.iloc[i][\"POS\"],df.iloc[i][\"Tag\"][2:len(df.iloc[i][\"Tag\"])]]\n",
    "                j = j + 1\n",
    "s"
   ]
  },
  {
   "cell_type": "markdown",
   "metadata": {},
   "source": [
    "Kisbetű és 12 kategória egyike (dátumok nincsenek benne)"
   ]
  },
  {
   "cell_type": "code",
   "execution_count": null,
   "metadata": {
    "collapsed": false,
    "scrolled": true
   },
   "outputs": [],
   "source": [
    "j = 0\n",
    "for i in range(len(df)):\n",
    "    if not(pd.isnull(df.iloc[i][\"Word\"])):\n",
    "        if (97 <= ord(df.iloc[i][\"Word\"][0]) & ord(df.iloc[i][\"Word\"][0]) <= 122) & ((df.iloc[i][\"Tag\"][0] == 'B') | (df.iloc[i][\"Tag\"][0] == 'I')):\n",
    "            t.loc[j] = [df.iloc[i][\"Word\"],df.iloc[i][\"POS\"],df.iloc[i][\"Tag\"][2:len(df.iloc[i][\"Tag\"])]]\n",
    "            j = j + 1\n",
    "t"
   ]
  },
  {
   "cell_type": "code",
   "execution_count": null,
   "metadata": {
    "collapsed": false
   },
   "outputs": [],
   "source": [
    "time = str(dt.datetime.now())\n",
    "\n",
    "\n",
    "file_end = time[0:4]+\"_\"+time[5:7]+\"_\"+time[8:10]+\"_\"+time[11:13]+\"h_\"+time[14:16]+\"m_\"+time[17:19]+\"s.csv\"\n",
    "file = \"solution_\"\n",
    "file_name = file+file_end\n",
    "print(file_name)\n",
    "\n",
    "df.to_csv(file_name, sep=';',index=False)"
   ]
  },
  {
   "cell_type": "code",
   "execution_count": null,
   "metadata": {
    "collapsed": true
   },
   "outputs": [],
   "source": [
    "s = pd.DataFrame(columns=('Word', 'POS', 'Tag'))\n",
    "t = pd.DataFrame(columns=('Word', 'POS', 'Tag'))"
   ]
  },
  {
   "cell_type": "code",
   "execution_count": null,
   "metadata": {
    "collapsed": true
   },
   "outputs": [],
   "source": [
    "s2 = s\n",
    "t2 = t"
   ]
  },
  {
   "cell_type": "code",
   "execution_count": null,
   "metadata": {
    "collapsed": false,
    "scrolled": true
   },
   "outputs": [],
   "source": [
    "s3 = s2.drop_duplicates()\n",
    "s4 = s3.reset_index(drop=True)\n",
    "s4"
   ]
  },
  {
   "cell_type": "code",
   "execution_count": null,
   "metadata": {
    "collapsed": false,
    "scrolled": true
   },
   "outputs": [],
   "source": [
    "t3 = t2.drop_duplicates()\n",
    "t4 = t3.reset_index(drop=True)\n",
    "t4"
   ]
  },
  {
   "cell_type": "code",
   "execution_count": null,
   "metadata": {
    "collapsed": false,
    "scrolled": true
   },
   "outputs": [],
   "source": [
    "teszt = olvas('Test1NER.csv', None)\n",
    "teszt"
   ]
  },
  {
   "cell_type": "code",
   "execution_count": null,
   "metadata": {
    "collapsed": false,
    "scrolled": true
   },
   "outputs": [],
   "source": [
    "teszt['Tag'] = np.nan\n",
    "teszt[\"Tag\"]"
   ]
  },
  {
   "cell_type": "markdown",
   "metadata": {},
   "source": [
    "# Alap gyenge prediktálás\n",
    "## Hiányzik: dátum beállítás, B vagy I prepozíció"
   ]
  },
  {
   "cell_type": "code",
   "execution_count": null,
   "metadata": {
    "collapsed": false,
    "scrolled": true
   },
   "outputs": [],
   "source": [
    "j = 0\n",
    "for i in range(len(teszt)):\n",
    "    \n",
    "    \n",
    "    if (not(teszt[\"Sentence #\"].isnull()[i])):\n",
    "        if (not(nagybetu_index[nagybetu_index[\"Word\"] == teszt[\"Word\"][i]].empty)):\n",
    "            if(i!=0):\n",
    "                if(teszt.loc[i-1][\"Tag\"] == 'O'):\n",
    "                    teszt.loc[i][\"Tag\"] = 'B-'\n",
    "                else:\n",
    "                    teszt.loc[i][\"Tag\"] = 'I-'\n",
    "            else:\n",
    "                teszt.loc[i][\"Tag\"] = 'B-'\n",
    "\n",
    "            teszt.loc[i][\"Tag\"] = teszt.loc[i][\"Tag\"] + nagybetu_index[nagybetu_index[\"Word\"] == teszt[\"Word\"][i]][\"Tag\"].values.take(0)\n",
    "        #elif (kisbetu_index[kisbetu_index[\"Word\"] == teszt[\"Word\"][i]].empty):\n",
    "        #    \n",
    "        else:\n",
    "            teszt.loc[i][\"Tag\"] = 'O'\n",
    "    \n",
    "    \n",
    "    \n",
    "    elif (ord('A') <= ord(teszt.loc[i][\"Word\"][0]) & ord(teszt.loc[i][\"Word\"][0]) <= ord('Z')):\n",
    "        if (not(nagybetu_index[nagybetu_index[\"Word\"] == teszt[\"Word\"][i]].empty)):\n",
    "            \n",
    "            if(teszt.loc[i-1][\"Tag\"] == 'O'):\n",
    "                teszt.loc[i][\"Tag\"] = 'B-'\n",
    "            else:\n",
    "                teszt.loc[i][\"Tag\"] = 'I-'\n",
    "            \n",
    "            teszt.loc[i][\"Tag\"] = teszt.loc[i][\"Tag\"] + nagybetu_index[nagybetu_index[\"Word\"] == teszt[\"Word\"][i]][\"Tag\"].values.take(0)\n",
    "        #elif (kisbetu_index[kisbetu_index[\"Word\"] == teszt[\"Word\"][i]].empty):\n",
    "        #    \n",
    "        else:\n",
    "            teszt.loc[i][\"Tag\"] = 'O'\n",
    "    \n",
    "    \n",
    "    \n",
    "    elif (ord('1') <= ord(teszt.loc[i][\"Word\"][0]) & ord(teszt.loc[i][\"Word\"][0]) <= ord('9')):\n",
    "        if (teszt.loc[i-1][\"Word\"] in ('in', 'In', 'Since', 'since')):\n",
    "            \n",
    "            if(teszt.loc[i-1][\"Tag\"] == 'O'):\n",
    "                teszt.loc[i][\"Tag\"] = 'B-'\n",
    "            else:\n",
    "                teszt.loc[i][\"Tag\"] = 'I-'\n",
    "            \n",
    "            teszt.loc[i][\"Tag\"] = teszt.loc[i][\"Tag\"] + 'time'\n",
    "        else: \n",
    "            teszt.loc[i][\"Tag\"] = 'O'\n",
    "    else: \n",
    "        teszt.loc[i][\"Tag\"] = 'O'\n",
    "teszt"
   ]
  },
  {
   "cell_type": "code",
   "execution_count": null,
   "metadata": {
    "collapsed": false,
    "scrolled": true
   },
   "outputs": [],
   "source": [
    "j = 0\n",
    "i=3\n",
    "print(\"eleje\")\n",
    "if (not(teszt[\"Sentence #\"].isnull()[i])):\n",
    "    print(\"if1\")\n",
    "    if (not(nagybetu_index[nagybetu_index[\"Word\"] == teszt[\"Word\"][i]].empty)):\n",
    "        print(\"if2\")\n",
    "        teszt.loc[i][\"Tag\"] = nagybetu_index[nagybetu_index[\"Word\"] == teszt[\"Word\"][i]][\"Tag\"].values.take(0)    \n",
    "    else:\n",
    "        print(\"if3\")\n",
    "        teszt.loc[i][\"Tag\"] = 'OM'\n",
    "\n",
    "elif (ord('A') <= ord(teszt.loc[i][\"Word\"][0]) & ord(teszt.loc[i][\"Word\"][0]) <= ord('Z')):\n",
    "    if (not(nagybetu_index[nagybetu_index[\"Word\"] == teszt[\"Word\"][i]].empty)):\n",
    "            teszt.loc[i][\"Tag\"] = nagybetu_index[nagybetu_index[\"Word\"] == teszt[\"Word\"][i]][\"Tag\"].values.take(0)\n",
    "        #elif (kisbetu_index[kisbetu_index[\"Word\"] == teszt[\"Word\"][i]].empty):\n",
    "        #    \n",
    "    else:\n",
    "        teszt.iloc[i][\"Tag\"] = 'O'\n",
    "\n",
    "elif (ord('1') <= ord(teszt.loc[i][\"Word\"][0]) & ord(teszt.loc[i][\"Word\"][0]) <= ord('9')):\n",
    "    if (teszt.loc[i-1][\"Word\"] in ('in', 'In', 'Since', 'since')):\n",
    "            teszt.loc[i][\"Tag\"] = 'time'\n",
    "        \n",
    "else:\n",
    "    print(\"if4\")\n",
    "    teszt.loc[i][\"Tag\"] = 'O'\n",
    "print(\"if5\")\n",
    "teszt"
   ]
  },
  {
   "cell_type": "code",
   "execution_count": null,
   "metadata": {
    "collapsed": false
   },
   "outputs": [],
   "source": [
    "#teszt.loc[0][\"Tag\"] = 'O'\n",
    "#teszt\n",
    "#i=3\n",
    "#teszt[\"Sentence #\"].isnull()[3]\n",
    "\n",
    "nagybetu_index[nagybetu_index[\"Word\"] == teszt[\"Word\"][19379]] #283, 1266\n",
    "\n",
    "nagybetu_index[1260:1270]\n",
    "\n",
    "#teszt[\"Sentence #\"][0]\n",
    "#teszt[\"Sentence #\"].isnull()[3]\n",
    "#tanulo[tanulo[\"Word\"] == teszt[\"Word\"][3]]\n",
    "#tanulo[9650:9680]\n",
    "#nagybetu_index[nagybetu_index[\"Word\"] == teszt[\"Word\"][3]].empty\n",
    "#not(nagybetu_index[nagybetu_index[\"Word\"] == teszt[\"Word\"][3]].empty)\n",
    "#nagybetu_index[nagybetu_index[\"Word\"] == teszt[\"Word\"][3]][\"Tag\"].values.take(0)\n",
    "#teszt.iloc[0][\"Tag\"] = \"Neeeem\"\n",
    "#teszt.loc[0]\n",
    "#teszt.iloc[0][\"Tag\"] = nagybetu_index[nagybetu_index[\"Word\"] == teszt[\"Word\"][3]][\"Tag\"].values.take(0)\n",
    "#teszt.iloc[0][\"Tag\"]\n",
    "#teszt.iloc[0][\"Tag\"] = teszt.iloc[0][\"Tag\"] + \"-0\"\n",
    "#teszt.iloc[0][\"Tag\"]\n",
    "#nagybetu_index[\"Word\"][0] in (teszt[\"Word\"][0], \"President\", \"Hashtag\")"
   ]
  },
  {
   "cell_type": "code",
   "execution_count": null,
   "metadata": {
    "collapsed": false
   },
   "outputs": [],
   "source": [
    "teszt[\"Word\"][0].lower()"
   ]
  },
  {
   "cell_type": "code",
   "execution_count": null,
   "metadata": {
    "collapsed": false
   },
   "outputs": [],
   "source": [
    "#df[df['A'].str.contains(\"hello\")]\n",
    "if (t4[t4[\"Word\"] == \"in\"].empty):\n",
    "    print(True)\n",
    "else:\n",
    "    print(False)"
   ]
  },
  {
   "cell_type": "code",
   "execution_count": null,
   "metadata": {
    "collapsed": false
   },
   "outputs": [],
   "source": [
    "nagybetu"
   ]
  },
  {
   "cell_type": "code",
   "execution_count": null,
   "metadata": {
    "collapsed": true
   },
   "outputs": [],
   "source": []
  },
  {
   "cell_type": "markdown",
   "metadata": {},
   "source": [
    "# Program"
   ]
  },
  {
   "cell_type": "code",
   "execution_count": null,
   "metadata": {
    "collapsed": true,
    "scrolled": true
   },
   "outputs": [],
   "source": [
    "############beolvasás\n",
    "\n",
    "tanulo = olvas('TrainNER.csv')\n",
    "############tanulóhalmaz kigyűjtése\n",
    "\n",
    "nagybetu = kezdobetu(tanulo,ord('A'),ord('Z'))\n",
    "kisbetu = kezdobetu(tanulo,ord('a'),ord('z'))\n",
    "\n",
    "############tanulóhalmaz megtisztítása\n",
    "nagybetu_index = resetindex(nagybetu)\n",
    "kisbetu_index = resetindex(kisbetu)\n",
    "\n",
    "\n",
    "\n",
    "############tanulóhalmaz szótövezése\n",
    "\n",
    "\n",
    "############teszthalmaz beolvasása + másolat => TAG oszlop felvétele\n",
    "#teszt1 = olvas('Test1NER.csv', None)\n",
    "#teszt2 = olvas('Test2NER.csv', None)\n",
    "\n",
    "\n",
    "############teszthalmaz prediktálása + szótövezése\n",
    "\n",
    "\n",
    "\n",
    "############csv-be írás\n",
    "#writecsv(nagybetu,\"Nagybetu\")"
   ]
  },
  {
   "cell_type": "code",
   "execution_count": null,
   "metadata": {
    "collapsed": false,
    "scrolled": true
   },
   "outputs": [],
   "source": [
    "nagybetu_index"
   ]
  },
  {
   "cell_type": "markdown",
   "metadata": {},
   "source": [
    "# Innentol van az NLTK stemming + POS-tagging"
   ]
  },
  {
   "cell_type": "code",
   "execution_count": 6,
   "metadata": {
    "collapsed": false
   },
   "outputs": [],
   "source": [
    "import nltk"
   ]
  },
  {
   "cell_type": "code",
   "execution_count": 7,
   "metadata": {
    "collapsed": true
   },
   "outputs": [],
   "source": [
    "def rowStemmer(row,stemmer):\n",
    "    return(stemmer.stem(row['Word']))\n",
    "\n",
    "def stemProcess(dfIn,stemmer):\n",
    "    dfTemp = dfIn.copy()\n",
    "    typeString = str(type(stemmer)).split('.')[-1][:-2]\n",
    "    dfTemp['STEM_{0}'.format(typeString)] = dfTemp.apply(lambda x: rowStemmer(x,stemmer), axis = 1)\n",
    "    return dfTemp"
   ]
  },
  {
   "cell_type": "code",
   "execution_count": 9,
   "metadata": {
    "collapsed": false
   },
   "outputs": [],
   "source": [
    "df = pd.read_csv('TrainNER.csv',sep=';', encoding = \"ISO-8859-1\")\n",
    "test1 = pd.read_csv('Test1NER.csv',sep=';', encoding = \"ISO-8859-1\", header=None)\n",
    "test2 = pd.read_csv('Test2NER.csv',sep=';', encoding = \"ISO-8859-1\", header=None)\n",
    "train1 = pd.read_csv('TrainNER.csv',sep=';', encoding = \"ISO-8859-1\")"
   ]
  },
  {
   "cell_type": "code",
   "execution_count": 10,
   "metadata": {
    "collapsed": false
   },
   "outputs": [
    {
     "data": {
      "text/html": [
       "<div>\n",
       "<table border=\"1\" class=\"dataframe\">\n",
       "  <thead>\n",
       "    <tr style=\"text-align: right;\">\n",
       "      <th></th>\n",
       "      <th>0</th>\n",
       "      <th>1</th>\n",
       "      <th>2</th>\n",
       "    </tr>\n",
       "  </thead>\n",
       "  <tbody>\n",
       "    <tr>\n",
       "      <th>0</th>\n",
       "      <td>Sentence: 9001</td>\n",
       "      <td>In</td>\n",
       "      <td>IN</td>\n",
       "    </tr>\n",
       "    <tr>\n",
       "      <th>1</th>\n",
       "      <td>NaN</td>\n",
       "      <td>2005</td>\n",
       "      <td>CD</td>\n",
       "    </tr>\n",
       "    <tr>\n",
       "      <th>2</th>\n",
       "      <td>NaN</td>\n",
       "      <td>,</td>\n",
       "      <td>,</td>\n",
       "    </tr>\n",
       "    <tr>\n",
       "      <th>3</th>\n",
       "      <td>NaN</td>\n",
       "      <td>Zambia</td>\n",
       "      <td>NNP</td>\n",
       "    </tr>\n",
       "    <tr>\n",
       "      <th>4</th>\n",
       "      <td>NaN</td>\n",
       "      <td>qualified</td>\n",
       "      <td>VBD</td>\n",
       "    </tr>\n",
       "    <tr>\n",
       "      <th>5</th>\n",
       "      <td>NaN</td>\n",
       "      <td>for</td>\n",
       "      <td>IN</td>\n",
       "    </tr>\n",
       "    <tr>\n",
       "      <th>6</th>\n",
       "      <td>NaN</td>\n",
       "      <td>debt</td>\n",
       "      <td>NN</td>\n",
       "    </tr>\n",
       "    <tr>\n",
       "      <th>7</th>\n",
       "      <td>NaN</td>\n",
       "      <td>relief</td>\n",
       "      <td>NN</td>\n",
       "    </tr>\n",
       "    <tr>\n",
       "      <th>8</th>\n",
       "      <td>NaN</td>\n",
       "      <td>under</td>\n",
       "      <td>IN</td>\n",
       "    </tr>\n",
       "    <tr>\n",
       "      <th>9</th>\n",
       "      <td>NaN</td>\n",
       "      <td>the</td>\n",
       "      <td>DT</td>\n",
       "    </tr>\n",
       "  </tbody>\n",
       "</table>\n",
       "</div>"
      ],
      "text/plain": [
       "                0          1    2\n",
       "0  Sentence: 9001         In   IN\n",
       "1             NaN       2005   CD\n",
       "2             NaN          ,    ,\n",
       "3             NaN     Zambia  NNP\n",
       "4             NaN  qualified  VBD\n",
       "5             NaN        for   IN\n",
       "6             NaN       debt   NN\n",
       "7             NaN     relief   NN\n",
       "8             NaN      under   IN\n",
       "9             NaN        the   DT"
      ]
     },
     "execution_count": 10,
     "metadata": {},
     "output_type": "execute_result"
    }
   ],
   "source": [
    "test1.head(10)"
   ]
  },
  {
   "cell_type": "code",
   "execution_count": 11,
   "metadata": {
    "collapsed": false
   },
   "outputs": [
    {
     "data": {
      "text/html": [
       "<div>\n",
       "<table border=\"1\" class=\"dataframe\">\n",
       "  <thead>\n",
       "    <tr style=\"text-align: right;\">\n",
       "      <th></th>\n",
       "      <th>Sentence #</th>\n",
       "      <th>Word</th>\n",
       "      <th>Pos</th>\n",
       "    </tr>\n",
       "  </thead>\n",
       "  <tbody>\n",
       "    <tr>\n",
       "      <th>0</th>\n",
       "      <td>Sentence: 9001</td>\n",
       "      <td>In</td>\n",
       "      <td>IN</td>\n",
       "    </tr>\n",
       "    <tr>\n",
       "      <th>1</th>\n",
       "      <td>NaN</td>\n",
       "      <td>2005</td>\n",
       "      <td>CD</td>\n",
       "    </tr>\n",
       "    <tr>\n",
       "      <th>2</th>\n",
       "      <td>NaN</td>\n",
       "      <td>,</td>\n",
       "      <td>,</td>\n",
       "    </tr>\n",
       "  </tbody>\n",
       "</table>\n",
       "</div>"
      ],
      "text/plain": [
       "       Sentence #  Word Pos\n",
       "0  Sentence: 9001    In  IN\n",
       "1             NaN  2005  CD\n",
       "2             NaN     ,   ,"
      ]
     },
     "execution_count": 11,
     "metadata": {},
     "output_type": "execute_result"
    }
   ],
   "source": [
    "test1.columns=(['Sentence #','Word','Pos'])\n",
    "test1.head(3)"
   ]
  },
  {
   "cell_type": "code",
   "execution_count": 12,
   "metadata": {
    "collapsed": false
   },
   "outputs": [
    {
     "data": {
      "text/html": [
       "<div>\n",
       "<table border=\"1\" class=\"dataframe\">\n",
       "  <thead>\n",
       "    <tr style=\"text-align: right;\">\n",
       "      <th></th>\n",
       "      <th>Sentence #</th>\n",
       "      <th>Word</th>\n",
       "    </tr>\n",
       "  </thead>\n",
       "  <tbody>\n",
       "    <tr>\n",
       "      <th>0</th>\n",
       "      <td>Sentence: 9901</td>\n",
       "      <td>The</td>\n",
       "    </tr>\n",
       "    <tr>\n",
       "      <th>1</th>\n",
       "      <td>NaN</td>\n",
       "      <td>International</td>\n",
       "    </tr>\n",
       "    <tr>\n",
       "      <th>2</th>\n",
       "      <td>NaN</td>\n",
       "      <td>Committee</td>\n",
       "    </tr>\n",
       "    <tr>\n",
       "      <th>3</th>\n",
       "      <td>NaN</td>\n",
       "      <td>of</td>\n",
       "    </tr>\n",
       "    <tr>\n",
       "      <th>4</th>\n",
       "      <td>NaN</td>\n",
       "      <td>the</td>\n",
       "    </tr>\n",
       "    <tr>\n",
       "      <th>5</th>\n",
       "      <td>NaN</td>\n",
       "      <td>Red</td>\n",
       "    </tr>\n",
       "    <tr>\n",
       "      <th>6</th>\n",
       "      <td>NaN</td>\n",
       "      <td>Cross</td>\n",
       "    </tr>\n",
       "    <tr>\n",
       "      <th>7</th>\n",
       "      <td>NaN</td>\n",
       "      <td>says</td>\n",
       "    </tr>\n",
       "    <tr>\n",
       "      <th>8</th>\n",
       "      <td>NaN</td>\n",
       "      <td>84</td>\n",
       "    </tr>\n",
       "    <tr>\n",
       "      <th>9</th>\n",
       "      <td>NaN</td>\n",
       "      <td>people</td>\n",
       "    </tr>\n",
       "  </tbody>\n",
       "</table>\n",
       "</div>"
      ],
      "text/plain": [
       "       Sentence #           Word\n",
       "0  Sentence: 9901            The\n",
       "1             NaN  International\n",
       "2             NaN      Committee\n",
       "3             NaN             of\n",
       "4             NaN            the\n",
       "5             NaN            Red\n",
       "6             NaN          Cross\n",
       "7             NaN           says\n",
       "8             NaN             84\n",
       "9             NaN         people"
      ]
     },
     "execution_count": 12,
     "metadata": {},
     "output_type": "execute_result"
    }
   ],
   "source": [
    "test2.columns=(['Sentence #', 'Word'])\n",
    "test2.head(10)"
   ]
  },
  {
   "cell_type": "code",
   "execution_count": 13,
   "metadata": {
    "collapsed": false
   },
   "outputs": [
    {
     "data": {
      "text/html": [
       "<div>\n",
       "<table border=\"1\" class=\"dataframe\">\n",
       "  <thead>\n",
       "    <tr style=\"text-align: right;\">\n",
       "      <th></th>\n",
       "      <th>Sentence #</th>\n",
       "      <th>Word</th>\n",
       "      <th>POS</th>\n",
       "      <th>Tag</th>\n",
       "    </tr>\n",
       "  </thead>\n",
       "  <tbody>\n",
       "    <tr>\n",
       "      <th>0</th>\n",
       "      <td>Sentence: 1</td>\n",
       "      <td>President</td>\n",
       "      <td>NNP</td>\n",
       "      <td>B-per</td>\n",
       "    </tr>\n",
       "    <tr>\n",
       "      <th>1</th>\n",
       "      <td>NaN</td>\n",
       "      <td>Karzai</td>\n",
       "      <td>NNP</td>\n",
       "      <td>I-per</td>\n",
       "    </tr>\n",
       "    <tr>\n",
       "      <th>2</th>\n",
       "      <td>NaN</td>\n",
       "      <td>thanked</td>\n",
       "      <td>VBD</td>\n",
       "      <td>O</td>\n",
       "    </tr>\n",
       "    <tr>\n",
       "      <th>3</th>\n",
       "      <td>NaN</td>\n",
       "      <td>his</td>\n",
       "      <td>PRP$</td>\n",
       "      <td>O</td>\n",
       "    </tr>\n",
       "    <tr>\n",
       "      <th>4</th>\n",
       "      <td>NaN</td>\n",
       "      <td>allies</td>\n",
       "      <td>NNS</td>\n",
       "      <td>O</td>\n",
       "    </tr>\n",
       "    <tr>\n",
       "      <th>5</th>\n",
       "      <td>NaN</td>\n",
       "      <td>for</td>\n",
       "      <td>IN</td>\n",
       "      <td>O</td>\n",
       "    </tr>\n",
       "    <tr>\n",
       "      <th>6</th>\n",
       "      <td>NaN</td>\n",
       "      <td>their</td>\n",
       "      <td>PRP$</td>\n",
       "      <td>O</td>\n",
       "    </tr>\n",
       "    <tr>\n",
       "      <th>7</th>\n",
       "      <td>NaN</td>\n",
       "      <td>help</td>\n",
       "      <td>NN</td>\n",
       "      <td>O</td>\n",
       "    </tr>\n",
       "    <tr>\n",
       "      <th>8</th>\n",
       "      <td>NaN</td>\n",
       "      <td>in</td>\n",
       "      <td>IN</td>\n",
       "      <td>O</td>\n",
       "    </tr>\n",
       "    <tr>\n",
       "      <th>9</th>\n",
       "      <td>NaN</td>\n",
       "      <td>battling</td>\n",
       "      <td>VBG</td>\n",
       "      <td>O</td>\n",
       "    </tr>\n",
       "  </tbody>\n",
       "</table>\n",
       "</div>"
      ],
      "text/plain": [
       "    Sentence #       Word   POS    Tag\n",
       "0  Sentence: 1  President   NNP  B-per\n",
       "1          NaN     Karzai   NNP  I-per\n",
       "2          NaN    thanked   VBD      O\n",
       "3          NaN        his  PRP$      O\n",
       "4          NaN     allies   NNS      O\n",
       "5          NaN        for    IN      O\n",
       "6          NaN      their  PRP$      O\n",
       "7          NaN       help    NN      O\n",
       "8          NaN         in    IN      O\n",
       "9          NaN   battling   VBG      O"
      ]
     },
     "execution_count": 13,
     "metadata": {},
     "output_type": "execute_result"
    }
   ],
   "source": [
    "train1.head(10)"
   ]
  },
  {
   "cell_type": "code",
   "execution_count": 14,
   "metadata": {
    "collapsed": false
   },
   "outputs": [
    {
     "data": {
      "text/html": [
       "<div>\n",
       "<table border=\"1\" class=\"dataframe\">\n",
       "  <thead>\n",
       "    <tr style=\"text-align: right;\">\n",
       "      <th></th>\n",
       "      <th>Sentence #</th>\n",
       "      <th>Word</th>\n",
       "      <th>POS</th>\n",
       "      <th>Tag</th>\n",
       "    </tr>\n",
       "  </thead>\n",
       "  <tbody>\n",
       "    <tr>\n",
       "      <th>20</th>\n",
       "      <td>NaN</td>\n",
       "      <td>British</td>\n",
       "      <td>NNP</td>\n",
       "      <td>B-org</td>\n",
       "    </tr>\n",
       "    <tr>\n",
       "      <th>21</th>\n",
       "      <td>NaN</td>\n",
       "      <td>General</td>\n",
       "      <td>NNP</td>\n",
       "      <td>I-org</td>\n",
       "    </tr>\n",
       "    <tr>\n",
       "      <th>22</th>\n",
       "      <td>NaN</td>\n",
       "      <td>David</td>\n",
       "      <td>NNP</td>\n",
       "      <td>B-per</td>\n",
       "    </tr>\n",
       "    <tr>\n",
       "      <th>23</th>\n",
       "      <td>NaN</td>\n",
       "      <td>Richards</td>\n",
       "      <td>NNP</td>\n",
       "      <td>I-per</td>\n",
       "    </tr>\n",
       "    <tr>\n",
       "      <th>24</th>\n",
       "      <td>NaN</td>\n",
       "      <td>,</td>\n",
       "      <td>,</td>\n",
       "      <td>O</td>\n",
       "    </tr>\n",
       "    <tr>\n",
       "      <th>25</th>\n",
       "      <td>NaN</td>\n",
       "      <td>said</td>\n",
       "      <td>VBD</td>\n",
       "      <td>O</td>\n",
       "    </tr>\n",
       "    <tr>\n",
       "      <th>26</th>\n",
       "      <td>NaN</td>\n",
       "      <td>the</td>\n",
       "      <td>DT</td>\n",
       "      <td>O</td>\n",
       "    </tr>\n",
       "    <tr>\n",
       "      <th>27</th>\n",
       "      <td>NaN</td>\n",
       "      <td>unity</td>\n",
       "      <td>NN</td>\n",
       "      <td>O</td>\n",
       "    </tr>\n",
       "    <tr>\n",
       "      <th>28</th>\n",
       "      <td>NaN</td>\n",
       "      <td>of</td>\n",
       "      <td>IN</td>\n",
       "      <td>O</td>\n",
       "    </tr>\n",
       "    <tr>\n",
       "      <th>29</th>\n",
       "      <td>NaN</td>\n",
       "      <td>command</td>\n",
       "      <td>NN</td>\n",
       "      <td>O</td>\n",
       "    </tr>\n",
       "    <tr>\n",
       "      <th>30</th>\n",
       "      <td>NaN</td>\n",
       "      <td>the</td>\n",
       "      <td>DT</td>\n",
       "      <td>O</td>\n",
       "    </tr>\n",
       "    <tr>\n",
       "      <th>31</th>\n",
       "      <td>NaN</td>\n",
       "      <td>transfer</td>\n",
       "      <td>NN</td>\n",
       "      <td>O</td>\n",
       "    </tr>\n",
       "    <tr>\n",
       "      <th>32</th>\n",
       "      <td>NaN</td>\n",
       "      <td>brought</td>\n",
       "      <td>VBD</td>\n",
       "      <td>O</td>\n",
       "    </tr>\n",
       "    <tr>\n",
       "      <th>33</th>\n",
       "      <td>NaN</td>\n",
       "      <td>will</td>\n",
       "      <td>MD</td>\n",
       "      <td>O</td>\n",
       "    </tr>\n",
       "    <tr>\n",
       "      <th>34</th>\n",
       "      <td>NaN</td>\n",
       "      <td>enhance</td>\n",
       "      <td>VB</td>\n",
       "      <td>O</td>\n",
       "    </tr>\n",
       "    <tr>\n",
       "      <th>35</th>\n",
       "      <td>NaN</td>\n",
       "      <td>the</td>\n",
       "      <td>DT</td>\n",
       "      <td>O</td>\n",
       "    </tr>\n",
       "    <tr>\n",
       "      <th>36</th>\n",
       "      <td>NaN</td>\n",
       "      <td>effectiveness</td>\n",
       "      <td>NN</td>\n",
       "      <td>O</td>\n",
       "    </tr>\n",
       "    <tr>\n",
       "      <th>37</th>\n",
       "      <td>NaN</td>\n",
       "      <td>of</td>\n",
       "      <td>IN</td>\n",
       "      <td>O</td>\n",
       "    </tr>\n",
       "    <tr>\n",
       "      <th>38</th>\n",
       "      <td>NaN</td>\n",
       "      <td>the</td>\n",
       "      <td>DT</td>\n",
       "      <td>O</td>\n",
       "    </tr>\n",
       "    <tr>\n",
       "      <th>39</th>\n",
       "      <td>NaN</td>\n",
       "      <td>overall</td>\n",
       "      <td>JJ</td>\n",
       "      <td>O</td>\n",
       "    </tr>\n",
       "  </tbody>\n",
       "</table>\n",
       "</div>"
      ],
      "text/plain": [
       "   Sentence #           Word  POS    Tag\n",
       "20        NaN        British  NNP  B-org\n",
       "21        NaN        General  NNP  I-org\n",
       "22        NaN          David  NNP  B-per\n",
       "23        NaN       Richards  NNP  I-per\n",
       "24        NaN              ,    ,      O\n",
       "25        NaN           said  VBD      O\n",
       "26        NaN            the   DT      O\n",
       "27        NaN          unity   NN      O\n",
       "28        NaN             of   IN      O\n",
       "29        NaN        command   NN      O\n",
       "30        NaN            the   DT      O\n",
       "31        NaN       transfer   NN      O\n",
       "32        NaN        brought  VBD      O\n",
       "33        NaN           will   MD      O\n",
       "34        NaN        enhance   VB      O\n",
       "35        NaN            the   DT      O\n",
       "36        NaN  effectiveness   NN      O\n",
       "37        NaN             of   IN      O\n",
       "38        NaN            the   DT      O\n",
       "39        NaN        overall   JJ      O"
      ]
     },
     "execution_count": 14,
     "metadata": {},
     "output_type": "execute_result"
    }
   ],
   "source": [
    "miniTrain = df[20:40]\n",
    "miniTrain"
   ]
  },
  {
   "cell_type": "code",
   "execution_count": 15,
   "metadata": {
    "collapsed": false
   },
   "outputs": [],
   "source": [
    "pStemmer = nltk.PorterStemmer()\n",
    "sbStemmer = nltk.SnowballStemmer('english')\n",
    "\n",
    "miniTrain = stemProcess(miniTrain,sbStemmer)\n",
    "miniTrain = stemProcess(miniTrain,pStemmer)"
   ]
  },
  {
   "cell_type": "code",
   "execution_count": 16,
   "metadata": {
    "collapsed": false
   },
   "outputs": [
    {
     "data": {
      "text/html": [
       "<div>\n",
       "<table border=\"1\" class=\"dataframe\">\n",
       "  <thead>\n",
       "    <tr style=\"text-align: right;\">\n",
       "      <th></th>\n",
       "      <th>Sentence #</th>\n",
       "      <th>Word</th>\n",
       "      <th>POS</th>\n",
       "      <th>Tag</th>\n",
       "      <th>STEM_SnowballStemmer</th>\n",
       "      <th>STEM_PorterStemmer</th>\n",
       "    </tr>\n",
       "  </thead>\n",
       "  <tbody>\n",
       "    <tr>\n",
       "      <th>20</th>\n",
       "      <td>NaN</td>\n",
       "      <td>British</td>\n",
       "      <td>NNP</td>\n",
       "      <td>B-org</td>\n",
       "      <td>british</td>\n",
       "      <td>british</td>\n",
       "    </tr>\n",
       "    <tr>\n",
       "      <th>21</th>\n",
       "      <td>NaN</td>\n",
       "      <td>General</td>\n",
       "      <td>NNP</td>\n",
       "      <td>I-org</td>\n",
       "      <td>general</td>\n",
       "      <td>gener</td>\n",
       "    </tr>\n",
       "    <tr>\n",
       "      <th>22</th>\n",
       "      <td>NaN</td>\n",
       "      <td>David</td>\n",
       "      <td>NNP</td>\n",
       "      <td>B-per</td>\n",
       "      <td>david</td>\n",
       "      <td>david</td>\n",
       "    </tr>\n",
       "    <tr>\n",
       "      <th>23</th>\n",
       "      <td>NaN</td>\n",
       "      <td>Richards</td>\n",
       "      <td>NNP</td>\n",
       "      <td>I-per</td>\n",
       "      <td>richard</td>\n",
       "      <td>richard</td>\n",
       "    </tr>\n",
       "    <tr>\n",
       "      <th>24</th>\n",
       "      <td>NaN</td>\n",
       "      <td>,</td>\n",
       "      <td>,</td>\n",
       "      <td>O</td>\n",
       "      <td>,</td>\n",
       "      <td>,</td>\n",
       "    </tr>\n",
       "    <tr>\n",
       "      <th>25</th>\n",
       "      <td>NaN</td>\n",
       "      <td>said</td>\n",
       "      <td>VBD</td>\n",
       "      <td>O</td>\n",
       "      <td>said</td>\n",
       "      <td>said</td>\n",
       "    </tr>\n",
       "    <tr>\n",
       "      <th>26</th>\n",
       "      <td>NaN</td>\n",
       "      <td>the</td>\n",
       "      <td>DT</td>\n",
       "      <td>O</td>\n",
       "      <td>the</td>\n",
       "      <td>the</td>\n",
       "    </tr>\n",
       "    <tr>\n",
       "      <th>27</th>\n",
       "      <td>NaN</td>\n",
       "      <td>unity</td>\n",
       "      <td>NN</td>\n",
       "      <td>O</td>\n",
       "      <td>uniti</td>\n",
       "      <td>uniti</td>\n",
       "    </tr>\n",
       "    <tr>\n",
       "      <th>28</th>\n",
       "      <td>NaN</td>\n",
       "      <td>of</td>\n",
       "      <td>IN</td>\n",
       "      <td>O</td>\n",
       "      <td>of</td>\n",
       "      <td>of</td>\n",
       "    </tr>\n",
       "    <tr>\n",
       "      <th>29</th>\n",
       "      <td>NaN</td>\n",
       "      <td>command</td>\n",
       "      <td>NN</td>\n",
       "      <td>O</td>\n",
       "      <td>command</td>\n",
       "      <td>command</td>\n",
       "    </tr>\n",
       "    <tr>\n",
       "      <th>30</th>\n",
       "      <td>NaN</td>\n",
       "      <td>the</td>\n",
       "      <td>DT</td>\n",
       "      <td>O</td>\n",
       "      <td>the</td>\n",
       "      <td>the</td>\n",
       "    </tr>\n",
       "    <tr>\n",
       "      <th>31</th>\n",
       "      <td>NaN</td>\n",
       "      <td>transfer</td>\n",
       "      <td>NN</td>\n",
       "      <td>O</td>\n",
       "      <td>transfer</td>\n",
       "      <td>transfer</td>\n",
       "    </tr>\n",
       "    <tr>\n",
       "      <th>32</th>\n",
       "      <td>NaN</td>\n",
       "      <td>brought</td>\n",
       "      <td>VBD</td>\n",
       "      <td>O</td>\n",
       "      <td>brought</td>\n",
       "      <td>brought</td>\n",
       "    </tr>\n",
       "    <tr>\n",
       "      <th>33</th>\n",
       "      <td>NaN</td>\n",
       "      <td>will</td>\n",
       "      <td>MD</td>\n",
       "      <td>O</td>\n",
       "      <td>will</td>\n",
       "      <td>will</td>\n",
       "    </tr>\n",
       "    <tr>\n",
       "      <th>34</th>\n",
       "      <td>NaN</td>\n",
       "      <td>enhance</td>\n",
       "      <td>VB</td>\n",
       "      <td>O</td>\n",
       "      <td>enhanc</td>\n",
       "      <td>enhanc</td>\n",
       "    </tr>\n",
       "    <tr>\n",
       "      <th>35</th>\n",
       "      <td>NaN</td>\n",
       "      <td>the</td>\n",
       "      <td>DT</td>\n",
       "      <td>O</td>\n",
       "      <td>the</td>\n",
       "      <td>the</td>\n",
       "    </tr>\n",
       "    <tr>\n",
       "      <th>36</th>\n",
       "      <td>NaN</td>\n",
       "      <td>effectiveness</td>\n",
       "      <td>NN</td>\n",
       "      <td>O</td>\n",
       "      <td>effect</td>\n",
       "      <td>effect</td>\n",
       "    </tr>\n",
       "    <tr>\n",
       "      <th>37</th>\n",
       "      <td>NaN</td>\n",
       "      <td>of</td>\n",
       "      <td>IN</td>\n",
       "      <td>O</td>\n",
       "      <td>of</td>\n",
       "      <td>of</td>\n",
       "    </tr>\n",
       "    <tr>\n",
       "      <th>38</th>\n",
       "      <td>NaN</td>\n",
       "      <td>the</td>\n",
       "      <td>DT</td>\n",
       "      <td>O</td>\n",
       "      <td>the</td>\n",
       "      <td>the</td>\n",
       "    </tr>\n",
       "    <tr>\n",
       "      <th>39</th>\n",
       "      <td>NaN</td>\n",
       "      <td>overall</td>\n",
       "      <td>JJ</td>\n",
       "      <td>O</td>\n",
       "      <td>overal</td>\n",
       "      <td>overal</td>\n",
       "    </tr>\n",
       "  </tbody>\n",
       "</table>\n",
       "</div>"
      ],
      "text/plain": [
       "   Sentence #           Word  POS    Tag STEM_SnowballStemmer  \\\n",
       "20        NaN        British  NNP  B-org              british   \n",
       "21        NaN        General  NNP  I-org              general   \n",
       "22        NaN          David  NNP  B-per                david   \n",
       "23        NaN       Richards  NNP  I-per              richard   \n",
       "24        NaN              ,    ,      O                    ,   \n",
       "25        NaN           said  VBD      O                 said   \n",
       "26        NaN            the   DT      O                  the   \n",
       "27        NaN          unity   NN      O                uniti   \n",
       "28        NaN             of   IN      O                   of   \n",
       "29        NaN        command   NN      O              command   \n",
       "30        NaN            the   DT      O                  the   \n",
       "31        NaN       transfer   NN      O             transfer   \n",
       "32        NaN        brought  VBD      O              brought   \n",
       "33        NaN           will   MD      O                 will   \n",
       "34        NaN        enhance   VB      O               enhanc   \n",
       "35        NaN            the   DT      O                  the   \n",
       "36        NaN  effectiveness   NN      O               effect   \n",
       "37        NaN             of   IN      O                   of   \n",
       "38        NaN            the   DT      O                  the   \n",
       "39        NaN        overall   JJ      O               overal   \n",
       "\n",
       "   STEM_PorterStemmer  \n",
       "20            british  \n",
       "21              gener  \n",
       "22              david  \n",
       "23            richard  \n",
       "24                  ,  \n",
       "25               said  \n",
       "26                the  \n",
       "27              uniti  \n",
       "28                 of  \n",
       "29            command  \n",
       "30                the  \n",
       "31           transfer  \n",
       "32            brought  \n",
       "33               will  \n",
       "34             enhanc  \n",
       "35                the  \n",
       "36             effect  \n",
       "37                 of  \n",
       "38                the  \n",
       "39             overal  "
      ]
     },
     "execution_count": 16,
     "metadata": {},
     "output_type": "execute_result"
    }
   ],
   "source": [
    "miniTrain"
   ]
  },
  {
   "cell_type": "code",
   "execution_count": 17,
   "metadata": {
    "collapsed": false
   },
   "outputs": [
    {
     "name": "stdout",
     "output_type": "stream",
     "text": [
      "[nltk_data] Downloading package averaged_perceptron_tagger to\n",
      "[nltk_data]     C:\\Users\\Marton\\AppData\\Roaming\\nltk_data...\n",
      "[nltk_data]   Package averaged_perceptron_tagger is already up-to-\n",
      "[nltk_data]       date!\n",
      "[nltk_data] Downloading package punkt to\n",
      "[nltk_data]     C:\\Users\\Marton\\AppData\\Roaming\\nltk_data...\n",
      "[nltk_data]   Package punkt is already up-to-date!\n"
     ]
    },
    {
     "data": {
      "text/plain": [
       "True"
      ]
     },
     "execution_count": 17,
     "metadata": {},
     "output_type": "execute_result"
    }
   ],
   "source": [
    "nltk.download('averaged_perceptron_tagger')\n",
    "nltk.download('punkt')"
   ]
  },
  {
   "cell_type": "code",
   "execution_count": 18,
   "metadata": {
    "collapsed": true
   },
   "outputs": [],
   "source": [
    "def rowPrediction(row):\n",
    "    tokenizedWord = nltk.word_tokenize(row['Word'])\n",
    "    return(nltk.pos_tag(tokenizedWord)[-1][-1])\n",
    "\n",
    "def posProcess(dfIn):\n",
    "    dfTemp = dfIn.copy()\n",
    "    dfTemp['POS2'] = dfTemp.apply(lambda x: rowPrediction(x), axis = 1)\n",
    "    return dfTemp"
   ]
  },
  {
   "cell_type": "code",
   "execution_count": 19,
   "metadata": {
    "collapsed": false
   },
   "outputs": [
    {
     "data": {
      "text/html": [
       "<div>\n",
       "<table border=\"1\" class=\"dataframe\">\n",
       "  <thead>\n",
       "    <tr style=\"text-align: right;\">\n",
       "      <th></th>\n",
       "      <th>Sentence #</th>\n",
       "      <th>Word</th>\n",
       "      <th>POS</th>\n",
       "      <th>Tag</th>\n",
       "      <th>STEM_SnowballStemmer</th>\n",
       "      <th>STEM_PorterStemmer</th>\n",
       "      <th>POS2</th>\n",
       "    </tr>\n",
       "  </thead>\n",
       "  <tbody>\n",
       "    <tr>\n",
       "      <th>20</th>\n",
       "      <td>NaN</td>\n",
       "      <td>British</td>\n",
       "      <td>NNP</td>\n",
       "      <td>B-org</td>\n",
       "      <td>british</td>\n",
       "      <td>british</td>\n",
       "      <td>JJ</td>\n",
       "    </tr>\n",
       "    <tr>\n",
       "      <th>21</th>\n",
       "      <td>NaN</td>\n",
       "      <td>General</td>\n",
       "      <td>NNP</td>\n",
       "      <td>I-org</td>\n",
       "      <td>general</td>\n",
       "      <td>gener</td>\n",
       "      <td>NNP</td>\n",
       "    </tr>\n",
       "    <tr>\n",
       "      <th>22</th>\n",
       "      <td>NaN</td>\n",
       "      <td>David</td>\n",
       "      <td>NNP</td>\n",
       "      <td>B-per</td>\n",
       "      <td>david</td>\n",
       "      <td>david</td>\n",
       "      <td>NNP</td>\n",
       "    </tr>\n",
       "    <tr>\n",
       "      <th>23</th>\n",
       "      <td>NaN</td>\n",
       "      <td>Richards</td>\n",
       "      <td>NNP</td>\n",
       "      <td>I-per</td>\n",
       "      <td>richard</td>\n",
       "      <td>richard</td>\n",
       "      <td>NNS</td>\n",
       "    </tr>\n",
       "    <tr>\n",
       "      <th>24</th>\n",
       "      <td>NaN</td>\n",
       "      <td>,</td>\n",
       "      <td>,</td>\n",
       "      <td>O</td>\n",
       "      <td>,</td>\n",
       "      <td>,</td>\n",
       "      <td>,</td>\n",
       "    </tr>\n",
       "    <tr>\n",
       "      <th>25</th>\n",
       "      <td>NaN</td>\n",
       "      <td>said</td>\n",
       "      <td>VBD</td>\n",
       "      <td>O</td>\n",
       "      <td>said</td>\n",
       "      <td>said</td>\n",
       "      <td>VBD</td>\n",
       "    </tr>\n",
       "    <tr>\n",
       "      <th>26</th>\n",
       "      <td>NaN</td>\n",
       "      <td>the</td>\n",
       "      <td>DT</td>\n",
       "      <td>O</td>\n",
       "      <td>the</td>\n",
       "      <td>the</td>\n",
       "      <td>DT</td>\n",
       "    </tr>\n",
       "    <tr>\n",
       "      <th>27</th>\n",
       "      <td>NaN</td>\n",
       "      <td>unity</td>\n",
       "      <td>NN</td>\n",
       "      <td>O</td>\n",
       "      <td>uniti</td>\n",
       "      <td>uniti</td>\n",
       "      <td>NN</td>\n",
       "    </tr>\n",
       "    <tr>\n",
       "      <th>28</th>\n",
       "      <td>NaN</td>\n",
       "      <td>of</td>\n",
       "      <td>IN</td>\n",
       "      <td>O</td>\n",
       "      <td>of</td>\n",
       "      <td>of</td>\n",
       "      <td>IN</td>\n",
       "    </tr>\n",
       "    <tr>\n",
       "      <th>29</th>\n",
       "      <td>NaN</td>\n",
       "      <td>command</td>\n",
       "      <td>NN</td>\n",
       "      <td>O</td>\n",
       "      <td>command</td>\n",
       "      <td>command</td>\n",
       "      <td>NN</td>\n",
       "    </tr>\n",
       "    <tr>\n",
       "      <th>30</th>\n",
       "      <td>NaN</td>\n",
       "      <td>the</td>\n",
       "      <td>DT</td>\n",
       "      <td>O</td>\n",
       "      <td>the</td>\n",
       "      <td>the</td>\n",
       "      <td>DT</td>\n",
       "    </tr>\n",
       "    <tr>\n",
       "      <th>31</th>\n",
       "      <td>NaN</td>\n",
       "      <td>transfer</td>\n",
       "      <td>NN</td>\n",
       "      <td>O</td>\n",
       "      <td>transfer</td>\n",
       "      <td>transfer</td>\n",
       "      <td>NN</td>\n",
       "    </tr>\n",
       "    <tr>\n",
       "      <th>32</th>\n",
       "      <td>NaN</td>\n",
       "      <td>brought</td>\n",
       "      <td>VBD</td>\n",
       "      <td>O</td>\n",
       "      <td>brought</td>\n",
       "      <td>brought</td>\n",
       "      <td>NN</td>\n",
       "    </tr>\n",
       "    <tr>\n",
       "      <th>33</th>\n",
       "      <td>NaN</td>\n",
       "      <td>will</td>\n",
       "      <td>MD</td>\n",
       "      <td>O</td>\n",
       "      <td>will</td>\n",
       "      <td>will</td>\n",
       "      <td>MD</td>\n",
       "    </tr>\n",
       "    <tr>\n",
       "      <th>34</th>\n",
       "      <td>NaN</td>\n",
       "      <td>enhance</td>\n",
       "      <td>VB</td>\n",
       "      <td>O</td>\n",
       "      <td>enhanc</td>\n",
       "      <td>enhanc</td>\n",
       "      <td>NN</td>\n",
       "    </tr>\n",
       "    <tr>\n",
       "      <th>35</th>\n",
       "      <td>NaN</td>\n",
       "      <td>the</td>\n",
       "      <td>DT</td>\n",
       "      <td>O</td>\n",
       "      <td>the</td>\n",
       "      <td>the</td>\n",
       "      <td>DT</td>\n",
       "    </tr>\n",
       "    <tr>\n",
       "      <th>36</th>\n",
       "      <td>NaN</td>\n",
       "      <td>effectiveness</td>\n",
       "      <td>NN</td>\n",
       "      <td>O</td>\n",
       "      <td>effect</td>\n",
       "      <td>effect</td>\n",
       "      <td>NN</td>\n",
       "    </tr>\n",
       "    <tr>\n",
       "      <th>37</th>\n",
       "      <td>NaN</td>\n",
       "      <td>of</td>\n",
       "      <td>IN</td>\n",
       "      <td>O</td>\n",
       "      <td>of</td>\n",
       "      <td>of</td>\n",
       "      <td>IN</td>\n",
       "    </tr>\n",
       "    <tr>\n",
       "      <th>38</th>\n",
       "      <td>NaN</td>\n",
       "      <td>the</td>\n",
       "      <td>DT</td>\n",
       "      <td>O</td>\n",
       "      <td>the</td>\n",
       "      <td>the</td>\n",
       "      <td>DT</td>\n",
       "    </tr>\n",
       "    <tr>\n",
       "      <th>39</th>\n",
       "      <td>NaN</td>\n",
       "      <td>overall</td>\n",
       "      <td>JJ</td>\n",
       "      <td>O</td>\n",
       "      <td>overal</td>\n",
       "      <td>overal</td>\n",
       "      <td>JJ</td>\n",
       "    </tr>\n",
       "  </tbody>\n",
       "</table>\n",
       "</div>"
      ],
      "text/plain": [
       "   Sentence #           Word  POS    Tag STEM_SnowballStemmer  \\\n",
       "20        NaN        British  NNP  B-org              british   \n",
       "21        NaN        General  NNP  I-org              general   \n",
       "22        NaN          David  NNP  B-per                david   \n",
       "23        NaN       Richards  NNP  I-per              richard   \n",
       "24        NaN              ,    ,      O                    ,   \n",
       "25        NaN           said  VBD      O                 said   \n",
       "26        NaN            the   DT      O                  the   \n",
       "27        NaN          unity   NN      O                uniti   \n",
       "28        NaN             of   IN      O                   of   \n",
       "29        NaN        command   NN      O              command   \n",
       "30        NaN            the   DT      O                  the   \n",
       "31        NaN       transfer   NN      O             transfer   \n",
       "32        NaN        brought  VBD      O              brought   \n",
       "33        NaN           will   MD      O                 will   \n",
       "34        NaN        enhance   VB      O               enhanc   \n",
       "35        NaN            the   DT      O                  the   \n",
       "36        NaN  effectiveness   NN      O               effect   \n",
       "37        NaN             of   IN      O                   of   \n",
       "38        NaN            the   DT      O                  the   \n",
       "39        NaN        overall   JJ      O               overal   \n",
       "\n",
       "   STEM_PorterStemmer POS2  \n",
       "20            british   JJ  \n",
       "21              gener  NNP  \n",
       "22              david  NNP  \n",
       "23            richard  NNS  \n",
       "24                  ,    ,  \n",
       "25               said  VBD  \n",
       "26                the   DT  \n",
       "27              uniti   NN  \n",
       "28                 of   IN  \n",
       "29            command   NN  \n",
       "30                the   DT  \n",
       "31           transfer   NN  \n",
       "32            brought   NN  \n",
       "33               will   MD  \n",
       "34             enhanc   NN  \n",
       "35                the   DT  \n",
       "36             effect   NN  \n",
       "37                 of   IN  \n",
       "38                the   DT  \n",
       "39             overal   JJ  "
      ]
     },
     "execution_count": 19,
     "metadata": {},
     "output_type": "execute_result"
    }
   ],
   "source": [
    "miniTrain = posProcess(miniTrain)\n",
    "miniTrain"
   ]
  },
  {
   "cell_type": "code",
   "execution_count": 20,
   "metadata": {
    "collapsed": false
   },
   "outputs": [
    {
     "name": "stdout",
     "output_type": "stream",
     "text": [
      "lengths: test1 - 19402, test2 - 9878\n"
     ]
    }
   ],
   "source": [
    "\n",
    "print('lengths: test1 - {0}, test2 - {1}'.format(len(test1),len(test2)))"
   ]
  },
  {
   "cell_type": "code",
   "execution_count": 21,
   "metadata": {
    "collapsed": false
   },
   "outputs": [
    {
     "name": "stdout",
     "output_type": "stream",
     "text": [
      "lengths: test1 - 19402, test2 - 9878\n"
     ]
    }
   ],
   "source": [
    "test1 = test1[pd.notnull(test1['Word'])]\n",
    "test2 = test2[pd.notnull(test2['Word'])]\n",
    "\n",
    "print('lengths: test1 - {0}, test2 - {1}'.format(len(test1),len(test2)))"
   ]
  },
  {
   "cell_type": "code",
   "execution_count": 22,
   "metadata": {
    "collapsed": false
   },
   "outputs": [
    {
     "data": {
      "text/html": [
       "<div>\n",
       "<table border=\"1\" class=\"dataframe\">\n",
       "  <thead>\n",
       "    <tr style=\"text-align: right;\">\n",
       "      <th></th>\n",
       "      <th>Sentence #</th>\n",
       "      <th>Word</th>\n",
       "      <th>POS2</th>\n",
       "      <th>STEM_SnowballStemmer</th>\n",
       "      <th>STEM_PorterStemmer</th>\n",
       "    </tr>\n",
       "  </thead>\n",
       "  <tbody>\n",
       "    <tr>\n",
       "      <th>0</th>\n",
       "      <td>Sentence: 9901</td>\n",
       "      <td>The</td>\n",
       "      <td>DT</td>\n",
       "      <td>the</td>\n",
       "      <td>the</td>\n",
       "    </tr>\n",
       "    <tr>\n",
       "      <th>1</th>\n",
       "      <td>NaN</td>\n",
       "      <td>International</td>\n",
       "      <td>NNP</td>\n",
       "      <td>intern</td>\n",
       "      <td>intern</td>\n",
       "    </tr>\n",
       "    <tr>\n",
       "      <th>2</th>\n",
       "      <td>NaN</td>\n",
       "      <td>Committee</td>\n",
       "      <td>NNP</td>\n",
       "      <td>committe</td>\n",
       "      <td>committe</td>\n",
       "    </tr>\n",
       "    <tr>\n",
       "      <th>3</th>\n",
       "      <td>NaN</td>\n",
       "      <td>of</td>\n",
       "      <td>IN</td>\n",
       "      <td>of</td>\n",
       "      <td>of</td>\n",
       "    </tr>\n",
       "    <tr>\n",
       "      <th>4</th>\n",
       "      <td>NaN</td>\n",
       "      <td>the</td>\n",
       "      <td>DT</td>\n",
       "      <td>the</td>\n",
       "      <td>the</td>\n",
       "    </tr>\n",
       "    <tr>\n",
       "      <th>5</th>\n",
       "      <td>NaN</td>\n",
       "      <td>Red</td>\n",
       "      <td>JJ</td>\n",
       "      <td>red</td>\n",
       "      <td>red</td>\n",
       "    </tr>\n",
       "    <tr>\n",
       "      <th>6</th>\n",
       "      <td>NaN</td>\n",
       "      <td>Cross</td>\n",
       "      <td>NN</td>\n",
       "      <td>cross</td>\n",
       "      <td>cross</td>\n",
       "    </tr>\n",
       "    <tr>\n",
       "      <th>7</th>\n",
       "      <td>NaN</td>\n",
       "      <td>says</td>\n",
       "      <td>VBZ</td>\n",
       "      <td>say</td>\n",
       "      <td>say</td>\n",
       "    </tr>\n",
       "    <tr>\n",
       "      <th>8</th>\n",
       "      <td>NaN</td>\n",
       "      <td>84</td>\n",
       "      <td>CD</td>\n",
       "      <td>84</td>\n",
       "      <td>84</td>\n",
       "    </tr>\n",
       "    <tr>\n",
       "      <th>9</th>\n",
       "      <td>NaN</td>\n",
       "      <td>people</td>\n",
       "      <td>NNS</td>\n",
       "      <td>peopl</td>\n",
       "      <td>peopl</td>\n",
       "    </tr>\n",
       "  </tbody>\n",
       "</table>\n",
       "</div>"
      ],
      "text/plain": [
       "       Sentence #           Word POS2 STEM_SnowballStemmer STEM_PorterStemmer\n",
       "0  Sentence: 9901            The   DT                  the                the\n",
       "1             NaN  International  NNP               intern             intern\n",
       "2             NaN      Committee  NNP             committe           committe\n",
       "3             NaN             of   IN                   of                 of\n",
       "4             NaN            the   DT                  the                the\n",
       "5             NaN            Red   JJ                  red                red\n",
       "6             NaN          Cross   NN                cross              cross\n",
       "7             NaN           says  VBZ                  say                say\n",
       "8             NaN             84   CD                   84                 84\n",
       "9             NaN         people  NNS                peopl              peopl"
      ]
     },
     "execution_count": 22,
     "metadata": {},
     "output_type": "execute_result"
    }
   ],
   "source": [
    "test1 = stemProcess(test1,sbStemmer)\n",
    "test1 = stemProcess(test1,pStemmer)\n",
    "\n",
    "\n",
    "test2 = posProcess(test2)\n",
    "\n",
    "test2 = stemProcess(test2,sbStemmer)\n",
    "test2 = stemProcess(test2,pStemmer)\n",
    "\n",
    "test2.head(10)"
   ]
  },
  {
   "cell_type": "code",
   "execution_count": 23,
   "metadata": {
    "collapsed": false
   },
   "outputs": [
    {
     "data": {
      "text/html": [
       "<div>\n",
       "<table border=\"1\" class=\"dataframe\">\n",
       "  <thead>\n",
       "    <tr style=\"text-align: right;\">\n",
       "      <th></th>\n",
       "      <th>Sentence #</th>\n",
       "      <th>Word</th>\n",
       "      <th>POS</th>\n",
       "      <th>Tag</th>\n",
       "    </tr>\n",
       "  </thead>\n",
       "  <tbody>\n",
       "    <tr>\n",
       "      <th>0</th>\n",
       "      <td>Sentence: 1</td>\n",
       "      <td>President</td>\n",
       "      <td>NNP</td>\n",
       "      <td>B-per</td>\n",
       "    </tr>\n",
       "    <tr>\n",
       "      <th>1</th>\n",
       "      <td>NaN</td>\n",
       "      <td>Karzai</td>\n",
       "      <td>NNP</td>\n",
       "      <td>I-per</td>\n",
       "    </tr>\n",
       "  </tbody>\n",
       "</table>\n",
       "</div>"
      ],
      "text/plain": [
       "    Sentence #       Word  POS    Tag\n",
       "0  Sentence: 1  President  NNP  B-per\n",
       "1          NaN     Karzai  NNP  I-per"
      ]
     },
     "execution_count": 23,
     "metadata": {},
     "output_type": "execute_result"
    }
   ],
   "source": [
    "train1.head(2)"
   ]
  },
  {
   "cell_type": "code",
   "execution_count": 24,
   "metadata": {
    "collapsed": false
   },
   "outputs": [
    {
     "data": {
      "text/html": [
       "<div>\n",
       "<table border=\"1\" class=\"dataframe\">\n",
       "  <thead>\n",
       "    <tr style=\"text-align: right;\">\n",
       "      <th></th>\n",
       "      <th>Sentence #</th>\n",
       "      <th>Word</th>\n",
       "      <th>POS</th>\n",
       "      <th>Tag</th>\n",
       "      <th>STEM_SnowballStemmer</th>\n",
       "      <th>STEM_PorterStemmer</th>\n",
       "    </tr>\n",
       "  </thead>\n",
       "  <tbody>\n",
       "    <tr>\n",
       "      <th>0</th>\n",
       "      <td>Sentence: 1</td>\n",
       "      <td>President</td>\n",
       "      <td>NNP</td>\n",
       "      <td>B-per</td>\n",
       "      <td>presid</td>\n",
       "      <td>presid</td>\n",
       "    </tr>\n",
       "    <tr>\n",
       "      <th>1</th>\n",
       "      <td>NaN</td>\n",
       "      <td>Karzai</td>\n",
       "      <td>NNP</td>\n",
       "      <td>I-per</td>\n",
       "      <td>karzai</td>\n",
       "      <td>karzai</td>\n",
       "    </tr>\n",
       "    <tr>\n",
       "      <th>2</th>\n",
       "      <td>NaN</td>\n",
       "      <td>thanked</td>\n",
       "      <td>VBD</td>\n",
       "      <td>O</td>\n",
       "      <td>thank</td>\n",
       "      <td>thank</td>\n",
       "    </tr>\n",
       "    <tr>\n",
       "      <th>3</th>\n",
       "      <td>NaN</td>\n",
       "      <td>his</td>\n",
       "      <td>PRP$</td>\n",
       "      <td>O</td>\n",
       "      <td>his</td>\n",
       "      <td>hi</td>\n",
       "    </tr>\n",
       "    <tr>\n",
       "      <th>4</th>\n",
       "      <td>NaN</td>\n",
       "      <td>allies</td>\n",
       "      <td>NNS</td>\n",
       "      <td>O</td>\n",
       "      <td>alli</td>\n",
       "      <td>alli</td>\n",
       "    </tr>\n",
       "  </tbody>\n",
       "</table>\n",
       "</div>"
      ],
      "text/plain": [
       "    Sentence #       Word   POS    Tag STEM_SnowballStemmer STEM_PorterStemmer\n",
       "0  Sentence: 1  President   NNP  B-per               presid             presid\n",
       "1          NaN     Karzai   NNP  I-per               karzai             karzai\n",
       "2          NaN    thanked   VBD      O                thank              thank\n",
       "3          NaN        his  PRP$      O                  his                 hi\n",
       "4          NaN     allies   NNS      O                 alli               alli"
      ]
     },
     "execution_count": 24,
     "metadata": {},
     "output_type": "execute_result"
    }
   ],
   "source": [
    "\n",
    "train1 = train1[pd.notnull(train1['Word'])]\n",
    "\n",
    "train1 = stemProcess(train1,sbStemmer)\n",
    "train1 = stemProcess(train1,pStemmer)\n",
    "\n",
    "train1.head()"
   ]
  },
  {
   "cell_type": "code",
   "execution_count": 25,
   "metadata": {
    "collapsed": false
   },
   "outputs": [],
   "source": [
    "mySentence = 'I ate 24 pancakes for breakfast.'\n",
    "tokenized = nltk.word_tokenize(mySentence)"
   ]
  },
  {
   "cell_type": "code",
   "execution_count": 26,
   "metadata": {
    "collapsed": false
   },
   "outputs": [
    {
     "data": {
      "text/plain": [
       "str"
      ]
     },
     "execution_count": 26,
     "metadata": {},
     "output_type": "execute_result"
    }
   ],
   "source": [
    "type(tokenized[2])"
   ]
  },
  {
   "cell_type": "code",
   "execution_count": 27,
   "metadata": {
    "collapsed": false
   },
   "outputs": [
    {
     "data": {
      "text/plain": [
       "[('I', 'PRP'),\n",
       " ('ate', 'VBP'),\n",
       " ('24', 'CD'),\n",
       " ('pancakes', 'NNS'),\n",
       " ('for', 'IN'),\n",
       " ('breakfast', 'NN'),\n",
       " ('.', '.')]"
      ]
     },
     "execution_count": 27,
     "metadata": {},
     "output_type": "execute_result"
    }
   ],
   "source": [
    "nltk.pos_tag(tokenized)"
   ]
  },
  {
   "cell_type": "code",
   "execution_count": null,
   "metadata": {
    "collapsed": true
   },
   "outputs": [],
   "source": []
  }
 ],
 "metadata": {
  "kernelspec": {
   "display_name": "Python 3",
   "language": "python",
   "name": "python3"
  },
  "language_info": {
   "codemirror_mode": {
    "name": "ipython",
    "version": 3
   },
   "file_extension": ".py",
   "mimetype": "text/x-python",
   "name": "python",
   "nbconvert_exporter": "python",
   "pygments_lexer": "ipython3",
   "version": "3.6.0"
  }
 },
 "nbformat": 4,
 "nbformat_minor": 2
}
